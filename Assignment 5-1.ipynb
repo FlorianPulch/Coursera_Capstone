{
 "nbformat": 4,
 "nbformat_minor": 2,
 "metadata": {
  "language_info": {
   "name": "python",
   "codemirror_mode": {
    "name": "ipython",
    "version": 3
   },
   "version": "3.7.4-final"
  },
  "orig_nbformat": 2,
  "file_extension": ".py",
  "mimetype": "text/x-python",
  "name": "python",
  "npconvert_exporter": "python",
  "pygments_lexer": "ipython3",
  "version": 3,
  "kernelspec": {
   "name": "python37464bitf102f1ca299a49f0bc60124b1b17bdba",
   "display_name": "Python 3.7.4 64-bit"
  }
 },
 "cells": [
  {
   "cell_type": "markdown",
   "metadata": {},
   "source": [
    "# Introduction & Business Problem\n",
    "\n",
    "MegaGym , a gym company which already is operating multiple successful gyms in Europe, would like to expand to Canada, and has already decided that it would like to open up a gym in Toronto as Toronto has many health conscious people.\n",
    "\n",
    "MegaGym is, however, not yet sure where exactly to place the gym in Toronto - after all, the competition is fierce and MegaGym would like to be successful.\n",
    "\n",
    "As such, the business question is: Where in Toronto should MegaGym open up its new gym?"
   ]
  },
  {
   "cell_type": "markdown",
   "metadata": {},
   "source": [
    "# Data\n",
    "\n",
    "Preliminary research has proximity to gym is the number 1 criteria when choosing which gyms to go for. In particular, gym goers are, on average, only interested to commute up to 1.5 kms to the next gym. \n",
    "\n",
    "In this context, the Four square data will be leveraged in the following way:\n",
    "\n",
    "- Export locations of every gym in Toronto neighborhoods\n",
    "- Plot on a map where exactly each gym is located\n",
    "- Draw a radius around each existing gym of around 1.5km \n",
    "- Identify 'white spots' i.e. areas which are not covered by a particular gym\n",
    "\n",
    "Based on the above, make a recommendation where to open up a gym."
   ]
  },
  {
   "cell_type": "markdown",
   "metadata": {},
   "source": [
    "\n",
    "# Methodology \n",
    "In order to investigate where to place the gym, all existing gyms are plotted on a map. In addition, a circle is drawn around each existing gym with a radius of 1.5km.\n",
    "Any areas which are not covered by any already existing gym radius are good spots to open up a gym and should be further pursued by MegaGym"
   ]
  },
  {
   "cell_type": "markdown",
   "metadata": {},
   "source": [
    "\n",
    "# Results\n",
    "The plotting of the gym shoes that the majority of gyms are all located in the center of Toronto with lots of white spots to open up a new gym in the area of East York.\n"
   ]
  },
  {
   "cell_type": "markdown",
   "metadata": {},
   "source": [
    "\n",
    "# Discussion\n",
    "Based on the results, I would recommend MegaGym to take a look at the East York neighborhood and perform additional analysis (i.e. amount of custommers living in a particular sub-section of East York) to finalize their decision where to exactly place the gym.\n"
   ]
  },
  {
   "cell_type": "markdown",
   "metadata": {},
   "source": [
    "\n",
    "# Conclusion\n",
    "All in all, MegaGym has a good chance to open up a gym in Toronto and should take a closer look at the East York neighborhood "
   ]
  }
 ]
}