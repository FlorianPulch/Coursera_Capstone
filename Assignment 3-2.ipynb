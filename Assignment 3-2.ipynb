{
 "nbformat": 4,
 "nbformat_minor": 2,
 "metadata": {
  "language_info": {
   "name": "python",
   "codemirror_mode": {
    "name": "ipython",
    "version": 3
   },
   "version": "3.7.4-final"
  },
  "orig_nbformat": 2,
  "file_extension": ".py",
  "mimetype": "text/x-python",
  "name": "python",
  "npconvert_exporter": "python",
  "pygments_lexer": "ipython3",
  "version": 3,
  "kernelspec": {
   "name": "python37464bitf102f1ca299a49f0bc60124b1b17bdba",
   "display_name": "Python 3.7.4 64-bit"
  }
 },
 "cells": [
  {
   "cell_type": "code",
   "execution_count": 3,
   "metadata": {},
   "outputs": [
    {
     "output_type": "execute_result",
     "data": {
      "text/plain": "   postal_code           borough  ...   Latitude  Longitude\n2          M5A  Downtown Toronto  ...  43.654260 -79.360636\n4          M7A  Downtown Toronto  ...  43.662301 -79.389494\n9          M5B  Downtown Toronto  ...  43.657162 -79.378937\n15         M5C  Downtown Toronto  ...  43.651494 -79.375418\n19         M4E      East Toronto  ...  43.676357 -79.293031\n\n[5 rows x 6 columns]",
      "text/html": "<div>\n<style scoped>\n    .dataframe tbody tr th:only-of-type {\n        vertical-align: middle;\n    }\n\n    .dataframe tbody tr th {\n        vertical-align: top;\n    }\n\n    .dataframe thead th {\n        text-align: right;\n    }\n</style>\n<table border=\"1\" class=\"dataframe\">\n  <thead>\n    <tr style=\"text-align: right;\">\n      <th></th>\n      <th>postal_code</th>\n      <th>borough</th>\n      <th>Neighborhood</th>\n      <th>postcode</th>\n      <th>Latitude</th>\n      <th>Longitude</th>\n    </tr>\n  </thead>\n  <tbody>\n    <tr>\n      <th>2</th>\n      <td>M5A</td>\n      <td>Downtown Toronto</td>\n      <td>Regent Park / Harbourfront</td>\n      <td>M5A</td>\n      <td>43.654260</td>\n      <td>-79.360636</td>\n    </tr>\n    <tr>\n      <th>4</th>\n      <td>M7A</td>\n      <td>Downtown Toronto</td>\n      <td>Queen's Park / Ontario Provincial Government</td>\n      <td>M7A</td>\n      <td>43.662301</td>\n      <td>-79.389494</td>\n    </tr>\n    <tr>\n      <th>9</th>\n      <td>M5B</td>\n      <td>Downtown Toronto</td>\n      <td>Garden District, Ryerson</td>\n      <td>M5B</td>\n      <td>43.657162</td>\n      <td>-79.378937</td>\n    </tr>\n    <tr>\n      <th>15</th>\n      <td>M5C</td>\n      <td>Downtown Toronto</td>\n      <td>St. James Town</td>\n      <td>M5C</td>\n      <td>43.651494</td>\n      <td>-79.375418</td>\n    </tr>\n    <tr>\n      <th>19</th>\n      <td>M4E</td>\n      <td>East Toronto</td>\n      <td>The Beaches</td>\n      <td>M4E</td>\n      <td>43.676357</td>\n      <td>-79.293031</td>\n    </tr>\n  </tbody>\n</table>\n</div>"
     },
     "metadata": {},
     "execution_count": 3
    }
   ],
   "source": [
    "import requests\n",
    "from bs4 import BeautifulSoup\n",
    "import pandas as pd\n",
    "import matplotlib.cm as cm\n",
    "import matplotlib.colors as colors\n",
    "from sklearn.cluster import KMeans\n",
    "import folium as folium\n",
    "import numpy as np\n",
    "\n",
    "website_url = requests.get(\n",
    "    'https://en.wikipedia.org/wiki/List_of_postal_codes_of_Canada:_M').text\n",
    "soup = BeautifulSoup(website_url, 'lxml')\n",
    "\n",
    "my_table = soup.find('table', {'class': 'wikitable'})\n",
    "row_entries = my_table.findAll('tr')\n",
    "\n",
    "\n",
    "postal_code = []\n",
    "borough = []\n",
    "neighborhood = []\n",
    "\n",
    "for item in row_entries:\n",
    "    column_entries = item.findAll('td')\n",
    "    if column_entries:\n",
    "        postal_code.append(column_entries[0].text)\n",
    "        borough.append(column_entries[1].text)\n",
    "        neighborhood.append(column_entries[2].text)\n",
    "\n",
    "postal_code_clean = [item.replace('\\n', '') for item in postal_code]\n",
    "borough_clean = [item.replace('\\n', '') for item in borough]\n",
    "neighborhood_clean = [item.replace('\\n', '') for item in neighborhood]\n",
    "\n",
    "df = pd.DataFrame()\n",
    "df['postal_code'] = postal_code_clean\n",
    "df['borough'] = borough_clean\n",
    "df['Neighborhood'] = neighborhood_clean\n",
    "\n",
    "df_final = df[df['borough'] != 'Not assigned']\n",
    "df_final.shape\n",
    "\n",
    "geo_location_data = pd.read_csv(\n",
    "    r'C:\\Users\\fl\\OneDrive(O365D)\\Desktop\\Geospatial_Coordinates.csv')\n",
    "\n",
    "df_final = df_final.merge(geo_location_data, how='left',\n",
    "                          left_on='postal_code', right_on='postcode')\n",
    "\n",
    "\n",
    "toronto_only = df_final[df_final['borough'].str.contains(\"Toronto\")]\n",
    "\n",
    "toronto_only.head()"
   ]
  },
  {
   "cell_type": "code",
   "execution_count": null,
   "metadata": {},
   "outputs": [],
   "source": []
  }
 ]
}