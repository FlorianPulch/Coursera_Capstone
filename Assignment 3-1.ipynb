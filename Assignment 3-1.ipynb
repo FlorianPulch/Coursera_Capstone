{
 "nbformat": 4,
 "nbformat_minor": 2,
 "metadata": {
  "language_info": {
   "name": "python",
   "codemirror_mode": {
    "name": "ipython",
    "version": 3
   },
   "version": "3.7.4-final"
  },
  "orig_nbformat": 2,
  "file_extension": ".py",
  "mimetype": "text/x-python",
  "name": "python",
  "npconvert_exporter": "python",
  "pygments_lexer": "ipython3",
  "version": 3,
  "kernelspec": {
   "name": "python37464bitf102f1ca299a49f0bc60124b1b17bdba",
   "display_name": "Python 3.7.4 64-bit"
  }
 },
 "cells": [
  {
   "cell_type": "code",
   "execution_count": 2,
   "metadata": {},
   "outputs": [
    {
     "output_type": "execute_result",
     "data": {
      "text/plain": "  postal_code           borough                                  Neighborhood\n2         M3A        North York                                     Parkwoods\n3         M4A        North York                              Victoria Village\n4         M5A  Downtown Toronto                    Regent Park / Harbourfront\n5         M6A        North York             Lawrence Manor / Lawrence Heights\n6         M7A  Downtown Toronto  Queen's Park / Ontario Provincial Government",
      "text/html": "<div>\n<style scoped>\n    .dataframe tbody tr th:only-of-type {\n        vertical-align: middle;\n    }\n\n    .dataframe tbody tr th {\n        vertical-align: top;\n    }\n\n    .dataframe thead th {\n        text-align: right;\n    }\n</style>\n<table border=\"1\" class=\"dataframe\">\n  <thead>\n    <tr style=\"text-align: right;\">\n      <th></th>\n      <th>postal_code</th>\n      <th>borough</th>\n      <th>Neighborhood</th>\n    </tr>\n  </thead>\n  <tbody>\n    <tr>\n      <th>2</th>\n      <td>M3A</td>\n      <td>North York</td>\n      <td>Parkwoods</td>\n    </tr>\n    <tr>\n      <th>3</th>\n      <td>M4A</td>\n      <td>North York</td>\n      <td>Victoria Village</td>\n    </tr>\n    <tr>\n      <th>4</th>\n      <td>M5A</td>\n      <td>Downtown Toronto</td>\n      <td>Regent Park / Harbourfront</td>\n    </tr>\n    <tr>\n      <th>5</th>\n      <td>M6A</td>\n      <td>North York</td>\n      <td>Lawrence Manor / Lawrence Heights</td>\n    </tr>\n    <tr>\n      <th>6</th>\n      <td>M7A</td>\n      <td>Downtown Toronto</td>\n      <td>Queen's Park / Ontario Provincial Government</td>\n    </tr>\n  </tbody>\n</table>\n</div>"
     },
     "metadata": {},
     "execution_count": 2
    }
   ],
   "source": [
    "import requests\n",
    "from bs4 import BeautifulSoup\n",
    "import pandas as pd\n",
    "import matplotlib.cm as cm\n",
    "import matplotlib.colors as colors\n",
    "from sklearn.cluster import KMeans\n",
    "import folium as folium\n",
    "import numpy as np\n",
    "\n",
    "website_url = requests.get(\n",
    "    'https://en.wikipedia.org/wiki/List_of_postal_codes_of_Canada:_M').text\n",
    "soup = BeautifulSoup(website_url, 'lxml')\n",
    "\n",
    "my_table = soup.find('table', {'class': 'wikitable'})\n",
    "row_entries = my_table.findAll('tr')\n",
    "\n",
    "\n",
    "postal_code = []\n",
    "borough = []\n",
    "neighborhood = []\n",
    "\n",
    "for item in row_entries:\n",
    "    column_entries = item.findAll('td')\n",
    "    if column_entries:\n",
    "        postal_code.append(column_entries[0].text)\n",
    "        borough.append(column_entries[1].text)\n",
    "        neighborhood.append(column_entries[2].text)\n",
    "\n",
    "postal_code_clean = [item.replace('\\n', '') for item in postal_code]\n",
    "borough_clean = [item.replace('\\n', '') for item in borough]\n",
    "neighborhood_clean = [item.replace('\\n', '') for item in neighborhood]\n",
    "\n",
    "df = pd.DataFrame()\n",
    "df['postal_code'] = postal_code_clean\n",
    "df['borough'] = borough_clean\n",
    "df['Neighborhood'] = neighborhood_clean\n",
    "\n",
    "df_final = df[df['borough'] != 'Not assigned']\n",
    "\n",
    "df_final.head()"
   ]
  }
 ]
}